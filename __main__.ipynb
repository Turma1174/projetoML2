{
 "cells": [
  {
   "cell_type": "markdown",
   "metadata": {},
   "source": [
    "## Arquivo inicializador do projeto"
   ]
  },
  {
   "cell_type": "code",
   "execution_count": null,
   "metadata": {
    "vscode": {
     "languageId": "plaintext"
    }
   },
   "outputs": [],
   "source": [
    "import os\n",
    "\n",
    "# Função para executar notebooks\n",
    "def execute_notebook(notebook_path, output_path=None):\n",
    "    \"\"\"\n",
    "    Executa um notebook Jupyter (.ipynb) usando o nbconvert.\n",
    "    \n",
    "    Args:\n",
    "        notebook_path (str): Caminho para o notebook a ser executado.\n",
    "        output_path (str): Caminho para salvar o notebook executado (opcional).\n",
    "    \"\"\"\n",
    "    output_option = f\"--output {output_path}\" if output_path else \"\"\n",
    "    os.system(f\"jupyter nbconvert --to notebook --execute {output_option} {notebook_path}\")\n",
    "\n",
    "# Caminho base\n",
    "notebooks_dir = \"./\"\n",
    "\n",
    "# Lista de notebooks\n",
    "notebooks = [\n",
    "    \"exploratoria.ipynb\",\n",
    "    \"cleaned_data.ipynb\",    \n",
    "    \"regressao_svr.ipynb\",\n",
    "    \"regressao_bagging_boosting.ipynb\",\n",
    "    \"regressao_mlp.ipynb\",\n",
    "    \"classificador_mlp.ipynb\",\n",
    "    \"clusterizacao_kmeans.ipynb\",\n",
    "    \"clusterizacao_dbscan.ipynb\"    \n",
    "]\n",
    "\n",
    "# Executa todos os notebooks\n",
    "for notebook in notebooks:\n",
    "    notebook_path = os.path.join(notebooks_dir, notebook)\n",
    "    print(f\"Executando: {notebook}\")\n",
    "    execute_notebook(notebook_path)\n",
    "    print(f\"Concluído: {notebook}\")"
   ]
  }
 ],
 "metadata": {
  "language_info": {
   "name": "python"
  }
 },
 "nbformat": 4,
 "nbformat_minor": 2
}
